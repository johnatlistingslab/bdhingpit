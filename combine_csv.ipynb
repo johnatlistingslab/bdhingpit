{
 "cells": [
  {
   "cell_type": "markdown",
   "id": "da198a54",
   "metadata": {},
   "source": [
    "# Combine CSV Files and Generate HTML with Pandas"
   ]
  },
  {
   "cell_type": "code",
   "execution_count": 1,
   "id": "d663664c",
   "metadata": {},
   "outputs": [],
   "source": [
    "import pandas as pd"
   ]
  },
  {
   "cell_type": "markdown",
   "id": "da265a45",
   "metadata": {},
   "source": []
  },
  {
   "cell_type": "code",
   "execution_count": 2,
   "id": "d2c3ceeb",
   "metadata": {},
   "outputs": [],
   "source": [
    "source_A_df = pd.read_csv('source_A_listings_only.csv', index_col=0)"
   ]
  },
  {
   "cell_type": "code",
   "execution_count": 4,
   "id": "411ad67a",
   "metadata": {},
   "outputs": [],
   "source": [
    "source_B_df = pd.read_csv('source_B_listings_only.csv', index_col=0)"
   ]
  },
  {
   "cell_type": "code",
   "execution_count": 5,
   "id": "cd6ff313",
   "metadata": {},
   "outputs": [],
   "source": [
    "combined_df = pd.concat([source_A_df, source_B_df], axis=0)"
   ]
  },
  {
   "cell_type": "code",
   "execution_count": 11,
   "id": "d3aa94f1",
   "metadata": {},
   "outputs": [],
   "source": [
    "# Add some formatting\n",
    "bootstrap_css = '<link rel=\"stylesheet\" href=\"https://cdn.jsdelivr.net/npm/bootstrap@5.3.0/dist/css/bootstrap.min.css\">'\n",
    "\n",
    "html_page = f'''\n",
    "<!DOCTYPE html>\n",
    "<html>\n",
    "<head>\n",
    "{bootstrap_css}\n",
    "</head>\n",
    "<body class=\"p-4\">\n",
    "<h2>Mobile Home Park Listings</h2>\n",
    "{combined_df.to_html(index=False, classes=\"table table-striped table-hover\")}\n",
    "</body>\n",
    "</html>\n",
    "'''\n",
    "\n",
    "with open('listings.html', 'w', encoding='utf-8') as f:\n",
    "    f.write(html_page)"
   ]
  },
  {
   "cell_type": "code",
   "execution_count": null,
   "id": "5212cb70",
   "metadata": {},
   "outputs": [],
   "source": []
  }
 ],
 "metadata": {
  "kernelspec": {
   "display_name": "Python 3",
   "language": "python",
   "name": "python3"
  },
  "language_info": {
   "codemirror_mode": {
    "name": "ipython",
    "version": 3
   },
   "file_extension": ".py",
   "mimetype": "text/x-python",
   "name": "python",
   "nbconvert_exporter": "python",
   "pygments_lexer": "ipython3",
   "version": "3.10.0"
  }
 },
 "nbformat": 4,
 "nbformat_minor": 5
}
